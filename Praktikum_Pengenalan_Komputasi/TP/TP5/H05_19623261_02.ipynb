{
 "cells": [
  {
   "cell_type": "code",
   "execution_count": 1,
   "id": "6883c279",
   "metadata": {},
   "outputs": [],
   "source": [
    "# Nim: 19623261\n",
    "# Nama: Azfa Radhiyya Hakim\n",
    "# Tanggal: 9 November 2023\n",
    "# Deskripsi: Menampilkan data sesuai perintah masing-masing soal"
   ]
  },
  {
   "cell_type": "code",
   "execution_count": 2,
   "id": "784e2db6",
   "metadata": {},
   "outputs": [],
   "source": [
    "import pandas as pd\n",
    "df = pd.read_csv(\"H05.csv\")"
   ]
  },
  {
   "cell_type": "code",
   "execution_count": 3,
   "id": "1fb50cc1",
   "metadata": {},
   "outputs": [
    {
     "name": "stdout",
     "output_type": "stream",
     "text": [
      "          nama fakultas  nilai_mat  nilai_kim  nilai_fis\n",
      "3513  Tuan Ric     STEI      96.78      62.23      30.53\n"
     ]
    }
   ],
   "source": [
    "# Nomor 1: Menentukan nilai matematika, kimia, fisika Tuan Ric\n",
    "x = df.loc[df['nama'] == \"Tuan Ric\"]\n",
    "print(x)"
   ]
  },
  {
   "cell_type": "code",
   "execution_count": 4,
   "id": "bef6c72d",
   "metadata": {},
   "outputs": [
    {
     "name": "stdout",
     "output_type": "stream",
     "text": [
      "                         nama fakultas  nilai_mat  nilai_kim  nilai_fis\n",
      "1936  Yuniar Fazriani Rusmana     FITB      53.61      67.19      92.57\n"
     ]
    }
   ],
   "source": [
    "# Nomor 2: Menampilkan data mahasiswa dengan nilai fisika tertinggi\n",
    "x = df[\"nilai_fis\"].max()\n",
    "print(df.loc[df[\"nilai_fis\"] == x])"
   ]
  },
  {
   "cell_type": "code",
   "execution_count": 5,
   "id": "ece89f73",
   "metadata": {},
   "outputs": [
    {
     "name": "stdout",
     "output_type": "stream",
     "text": [
      "                          nama fakultas  nilai_mat  nilai_kim  nilai_fis\n",
      "2554      Faathir Reza Avicena     FTSL      57.12      81.50      78.68\n",
      "2779      Dinda A A Z Mundakir     STEI      41.18      81.34      82.60\n",
      "3544        Tammya Ayu Purnomo    SITHS      74.49      81.20      78.58\n",
      "4934    Alyssa Nadhira Windari     FTMD      78.38      78.83      78.68\n",
      "1137          Izni Nur Ibrahim     STEI      56.70      78.46      84.34\n",
      "2262      Rinaldi Oky Setiawan     STEI      71.22      77.44      83.66\n",
      "4070      Ias Azhari Rezkyarno    FMIPA      62.85      76.90      81.52\n",
      "2945           Klara Petra T T     FTSL      73.39      76.61      78.12\n",
      "1788  Naudy Germanimo Laksmana     FTMD      62.29      76.38      76.15\n",
      "1310       Mardliyahtur Rohmah     STEI      63.15      76.36      74.06\n"
     ]
    }
   ],
   "source": [
    "# Nomor 3: Menampilkan 10 orang dengan nilai kimia tertinggi\n",
    "x = df.sort_values([\"nilai_kim\",\"nama\"], ascending=[False,True])[:10]\n",
    "print(x)"
   ]
  },
  {
   "cell_type": "code",
   "execution_count": 6,
   "id": "cb306fbf",
   "metadata": {},
   "outputs": [
    {
     "name": "stdout",
     "output_type": "stream",
     "text": [
      "329\n"
     ]
    }
   ],
   "source": [
    "# Nomor 4: Menentukan banyak mahasiswa yang mendapatkan nilai matematika di bawah 50\n",
    "x = df.loc[df[\"nilai_mat\"] < 50]\n",
    "print(len(x))"
   ]
  },
  {
   "cell_type": "code",
   "execution_count": 7,
   "id": "a0165d68",
   "metadata": {},
   "outputs": [
    {
     "name": "stdout",
     "output_type": "stream",
     "text": [
      "627\n"
     ]
    }
   ],
   "source": [
    "# Nomor 5: Menentukan banyak mahasiswa FMIPA\n",
    "x = df.loc[df[\"fakultas\"] == \"FMIPA\"]\n",
    "print(len(x))"
   ]
  }
 ],
 "metadata": {
  "kernelspec": {
   "display_name": "Python 3 (ipykernel)",
   "language": "python",
   "name": "python3"
  },
  "language_info": {
   "codemirror_mode": {
    "name": "ipython",
    "version": 3
   },
   "file_extension": ".py",
   "mimetype": "text/x-python",
   "name": "python",
   "nbconvert_exporter": "python",
   "pygments_lexer": "ipython3",
   "version": "3.10.0"
  }
 },
 "nbformat": 4,
 "nbformat_minor": 5
}
