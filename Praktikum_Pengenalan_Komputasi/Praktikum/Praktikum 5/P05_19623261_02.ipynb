{
 "cells": [
  {
   "cell_type": "code",
   "execution_count": null,
   "id": "b50aae71",
   "metadata": {},
   "outputs": [],
   "source": [
    "# Nim/Nama: 19623261/Azfa Radhiyya Hakim\n",
    "# Tanggal: 16 November 2023\n",
    "# Deskripsi: Menjawab bedasarkan maisng-masing perintah soal"
   ]
  },
  {
   "cell_type": "code",
   "execution_count": 2,
   "id": "7073673f",
   "metadata": {},
   "outputs": [],
   "source": [
    "# Import dan inisialisasi\n",
    "import pandas as pd\n",
    "df = pd.read_csv(\"P05-01.csv\")"
   ]
  },
  {
   "cell_type": "code",
   "execution_count": 20,
   "id": "cd79a6e2",
   "metadata": {},
   "outputs": [
    {
     "name": "stdout",
     "output_type": "stream",
     "text": [
      "       CLIENTNUM     Attrition_Flag  Customer_Age Gender  Dependent_count  \\\n",
      "21     708508758  Attrited Customer            62      F                0   \n",
      "39     708300483  Attrited Customer            66      F                0   \n",
      "51     779471883  Attrited Customer            54      F                1   \n",
      "82     711013983  Attrited Customer            55      F                4   \n",
      "140    789322833  Attrited Customer            48      F                5   \n",
      "...          ...                ...           ...    ...              ...   \n",
      "10092  713437008  Attrited Customer            40      F                3   \n",
      "10105  709646433  Attrited Customer            59      F                1   \n",
      "10119  716893683  Attrited Customer            55      F                3   \n",
      "10124  716506083  Attrited Customer            44      F                1   \n",
      "10126  714337233  Attrited Customer            43      F                2   \n",
      "\n",
      "      Education_Level Marital_Status Income_Category Card_Category  \\\n",
      "21           Graduate        Married  Less than $40K          Blue   \n",
      "39          Doctorate        Married         Unknown          Blue   \n",
      "51           Graduate        Married  Less than $40K          Blue   \n",
      "82            Unknown        Married     $40K - $60K          Blue   \n",
      "140       High School        Married  Less than $40K          Blue   \n",
      "...               ...            ...             ...           ...   \n",
      "10092        Graduate        Married         Unknown          Blue   \n",
      "10105     High School        Married  Less than $40K          Blue   \n",
      "10119      Uneducated         Single         Unknown          Blue   \n",
      "10124     High School        Married  Less than $40K          Blue   \n",
      "10126        Graduate        Married  Less than $40K        Silver   \n",
      "\n",
      "       Months_on_book  Months_Inactive_12_mon  Credit_Limit  \\\n",
      "21                 49                       3        1438.3   \n",
      "39                 56                       4        7882.0   \n",
      "51                 40                       3        1438.3   \n",
      "82                 45                       4        2158.0   \n",
      "140                38                       3        8025.0   \n",
      "...               ...                     ...           ...   \n",
      "10092              25                       2        6888.0   \n",
      "10105              50                       4        5043.0   \n",
      "10119              47                       3       14657.0   \n",
      "10124              36                       3        5409.0   \n",
      "10126              25                       2       10388.0   \n",
      "\n",
      "       Total_Revolving_Bal  Total_Trans_Amt  Total_Trans_Ct  \\\n",
      "21                       0              692              16   \n",
      "39                     605              704              16   \n",
      "51                     808              705              19   \n",
      "82                       0              615              12   \n",
      "140                      0              673              18   \n",
      "...                    ...              ...             ...   \n",
      "10092                 1878             9038              64   \n",
      "10105                  743            10170              66   \n",
      "10119                 2517             6009              53   \n",
      "10124                    0            10291              60   \n",
      "10126                 1961            10294              61   \n",
      "\n",
      "       Avg_Utilization_Ratio  \n",
      "21                     0.000  \n",
      "39                     0.077  \n",
      "51                     0.562  \n",
      "82                     0.000  \n",
      "140                    0.000  \n",
      "...                      ...  \n",
      "10092                  0.273  \n",
      "10105                  0.147  \n",
      "10119                  0.172  \n",
      "10124                  0.000  \n",
      "10126                  0.189  \n",
      "\n",
      "[930 rows x 16 columns]\n"
     ]
    }
   ],
   "source": [
    "# Nomor 1\n",
    "df1 = df.loc[(df[\"Attrition_Flag\"] == \"Attrited Customer\") & (df[\"Gender\"] == \"F\")]\n",
    "print(df1)"
   ]
  },
  {
   "cell_type": "code",
   "execution_count": 12,
   "id": "3fa2b80a",
   "metadata": {},
   "outputs": [
    {
     "name": "stdout",
     "output_type": "stream",
     "text": [
      "ID dengan total nominal yang belum dibayar pengguna kartu kredit terbesar adalah 769911858\n"
     ]
    }
   ],
   "source": [
    "# Nomor 2\n",
    "a = df[\"Total_Revolving_Bal\"].idxmax()\n",
    "b = df.loc[a,\"CLIENTNUM\"]\n",
    "print(\"ID dengan total nominal yang belum dibayar pengguna kartu kredit terbesar adalah \" + str(b))"
   ]
  },
  {
   "cell_type": "code",
   "execution_count": 14,
   "id": "1add04b7",
   "metadata": {},
   "outputs": [
    {
     "name": "stdout",
     "output_type": "stream",
     "text": [
      "949\n"
     ]
    }
   ],
   "source": [
    "# Nomor 3\n",
    "df3 = df.loc[(df[\"Education_Level\"] == \"High School\") & (df[\"Marital_Status\"] == \"Married\")]\n",
    "print(len(df3))"
   ]
  },
  {
   "cell_type": "code",
   "execution_count": 15,
   "id": "f6715ab6",
   "metadata": {},
   "outputs": [
    {
     "name": "stdout",
     "output_type": "stream",
     "text": [
      "Card_Category\n",
      "Blue        526\n",
      "Silver      121\n",
      "Gold         32\n",
      "Platinum      8\n",
      "Name: count, dtype: int64\n"
     ]
    }
   ],
   "source": [
    "# Nomor 4\n",
    "df4 = df.loc[df[\"Total_Trans_Ct\"] >= 100]\n",
    "print(df4[\"Card_Category\"].value_counts())"
   ]
  },
  {
   "cell_type": "code",
   "execution_count": 19,
   "id": "03f6a0d8",
   "metadata": {},
   "outputs": [
    {
     "name": "stdout",
     "output_type": "stream",
     "text": [
      "      CLIENTNUM     Attrition_Flag  Customer_Age Gender  Dependent_count  \\\n",
      "9295  719324658  Existing Customer            27      M                0   \n",
      "766   787456608  Existing Customer            29      M                2   \n",
      "9494  710262408  Existing Customer            29      M                1   \n",
      "1381  720497958  Existing Customer            29      M                1   \n",
      "1677  780374133  Existing Customer            29      M                1   \n",
      "\n",
      "     Education_Level Marital_Status Income_Category Card_Category  \\\n",
      "9295         College        Unknown    $80K - $120K        Silver   \n",
      "766      High School        Married    $80K - $120K          Blue   \n",
      "9494        Graduate        Married    $80K - $120K        Silver   \n",
      "1381        Graduate        Married    $80K - $120K          Blue   \n",
      "1677         College         Single    $80K - $120K          Blue   \n",
      "\n",
      "      Months_on_book  Months_Inactive_12_mon  Credit_Limit  \\\n",
      "9295              19                       1       34516.0   \n",
      "766               15                       2        4158.0   \n",
      "9494              36                       2       34516.0   \n",
      "1381              14                       3       14853.0   \n",
      "1677              19                       3        7010.0   \n",
      "\n",
      "      Total_Revolving_Bal  Total_Trans_Amt  Total_Trans_Ct  \\\n",
      "9295                 1131            14716             112   \n",
      "766                  1635             1678              37   \n",
      "9494                 1666            13971             116   \n",
      "1381                    0             1800              41   \n",
      "1677                 2103             2413              48   \n",
      "\n",
      "      Avg_Utilization_Ratio  \n",
      "9295                  0.033  \n",
      "766                   0.393  \n",
      "9494                  0.048  \n",
      "1381                  0.000  \n",
      "1677                  0.300  \n"
     ]
    }
   ],
   "source": [
    "# Nomor 5\n",
    "df5 = df.loc[df[\"Income_Category\"] == \"$80K - $120K\"]\n",
    "print(df5.sort_values([\"Customer_Age\"], ascending=[1])[:5])"
   ]
  }
 ],
 "metadata": {
  "kernelspec": {
   "display_name": "Python 3 (ipykernel)",
   "language": "python",
   "name": "python3"
  },
  "language_info": {
   "codemirror_mode": {
    "name": "ipython",
    "version": 3
   },
   "file_extension": ".py",
   "mimetype": "text/x-python",
   "name": "python",
   "nbconvert_exporter": "python",
   "pygments_lexer": "ipython3",
   "version": "3.11.5"
  }
 },
 "nbformat": 4,
 "nbformat_minor": 5
}
