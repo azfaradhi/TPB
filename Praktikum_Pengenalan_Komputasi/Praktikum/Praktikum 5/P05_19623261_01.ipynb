{
 "cells": [
  {
   "cell_type": "code",
   "execution_count": null,
   "id": "31407f1b",
   "metadata": {},
   "outputs": [],
   "source": [
    "# Nim/Nama: 19623261/Azfa Radhiyya Hakim\n",
    "# Tanggal: 16 November 2023\n",
    "# Deskripsi: Menjawab bedasarkan maisng-masing perintah soal"
   ]
  },
  {
   "cell_type": "code",
   "execution_count": 3,
   "id": "78536faf",
   "metadata": {},
   "outputs": [],
   "source": [
    "# Import dan inisialisasi\n",
    "import pandas as pd\n",
    "df = pd.read_csv(\"P05-01.csv\")"
   ]
  },
  {
   "cell_type": "code",
   "execution_count": 5,
   "id": "0e6101d5",
   "metadata": {},
   "outputs": [
    {
     "name": "stdout",
     "output_type": "stream",
     "text": [
      "Card_Category\n",
      "Blue        9436\n",
      "Silver       555\n",
      "Gold         116\n",
      "Platinum      20\n",
      "Name: count, dtype: int64\n"
     ]
    }
   ],
   "source": [
    "# Nomor 1\n",
    "df1 = df[\"Card_Category\"].value_counts()\n",
    "print(df1)"
   ]
  },
  {
   "cell_type": "code",
   "execution_count": 20,
   "id": "10527bcf",
   "metadata": {},
   "outputs": [
    {
     "name": "stdout",
     "output_type": "stream",
     "text": [
      "Rata-rata nominal limit kartu kredit adalah 8631.953698034955\n"
     ]
    }
   ],
   "source": [
    "# Nomor 2\n",
    "df2 = df[\"Credit_Limit\"].mean()\n",
    "print(f'Rata-rata nominal limit kartu kredit adalah {df2}')"
   ]
  },
  {
   "cell_type": "code",
   "execution_count": 10,
   "id": "4b6ecc64",
   "metadata": {},
   "outputs": [
    {
     "name": "stdout",
     "output_type": "stream",
     "text": [
      "      CLIENTNUM     Attrition_Flag  Customer_Age Gender  Dependent_count  \\\n",
      "9324  708163758  Existing Customer            41      M                3   \n",
      "9586  784868958  Existing Customer            56      F                1   \n",
      "9213  719413383  Existing Customer            32      M                1   \n",
      "9629  709015833  Existing Customer            42      M                2   \n",
      "9339  715728108  Existing Customer            27      F                0   \n",
      "\n",
      "     Education_Level Marital_Status Income_Category Card_Category  \\\n",
      "9324         Unknown        Married         $120K +          Blue   \n",
      "9586     High School        Married         Unknown          Blue   \n",
      "9213      Uneducated         Single     $60K - $80K        Silver   \n",
      "9629        Graduate         Single     $60K - $80K        Silver   \n",
      "9339        Graduate        Unknown  Less than $40K          Blue   \n",
      "\n",
      "      Months_on_book  Months_Inactive_12_mon  Credit_Limit  \\\n",
      "9324              33                       4       34516.0   \n",
      "9586              49                       2       17542.0   \n",
      "9213              36                       3       33711.0   \n",
      "9629              36                       3       34516.0   \n",
      "9339              36                       1        4548.0   \n",
      "\n",
      "      Total_Revolving_Bal  Total_Trans_Amt  Total_Trans_Ct  \\\n",
      "9324                  638            13085             139   \n",
      "9586                 2517            13939             138   \n",
      "9213                 1437            14880             134   \n",
      "9629                    0            12920             132   \n",
      "9339                 1450            14330             131   \n",
      "\n",
      "      Avg_Utilization_Ratio  \n",
      "9324                  0.018  \n",
      "9586                  0.143  \n",
      "9213                  0.043  \n",
      "9629                  0.000  \n",
      "9339                  0.319  \n"
     ]
    }
   ],
   "source": [
    "# Nomor 3\n",
    "df3 = df.sort_values([\"Total_Trans_Ct\"], ascending=[0])[:5]\n",
    "print(df3)"
   ]
  },
  {
   "cell_type": "code",
   "execution_count": 11,
   "id": "cb055d23",
   "metadata": {},
   "outputs": [
    {
     "name": "stdout",
     "output_type": "stream",
     "text": [
      "       CLIENTNUM     Attrition_Flag  Customer_Age Gender  Dependent_count  \\\n",
      "6      810347208  Existing Customer            51      M                4   \n",
      "37     785432733  Existing Customer            42      F                4   \n",
      "303    779749908  Existing Customer            48      M                4   \n",
      "379    716455683  Existing Customer            40      F                3   \n",
      "523    827332983  Existing Customer            46      M                3   \n",
      "...          ...                ...           ...    ...              ...   \n",
      "10029  715268508  Existing Customer            42      M                3   \n",
      "10038  716850558  Existing Customer            48      M                4   \n",
      "10049  715713408  Existing Customer            55      M                2   \n",
      "10085  717714633  Existing Customer            49      M                3   \n",
      "10112  708564858  Attrited Customer            33      M                2   \n",
      "\n",
      "      Education_Level Marital_Status Income_Category Card_Category  \\\n",
      "6             Unknown        Married         $120K +          Gold   \n",
      "37        High School        Married  Less than $40K          Gold   \n",
      "303           College        Married     $60K - $80K          Gold   \n",
      "379       High School         Single  Less than $40K          Gold   \n",
      "523       High School         Single    $80K - $120K          Gold   \n",
      "...               ...            ...             ...           ...   \n",
      "10029        Graduate        Married     $40K - $60K          Gold   \n",
      "10038        Graduate        Unknown     $60K - $80K          Gold   \n",
      "10049        Graduate        Married  Less than $40K          Gold   \n",
      "10085      Uneducated        Married         $120K +          Gold   \n",
      "10112         College        Married         $120K +          Gold   \n",
      "\n",
      "       Months_on_book  Months_Inactive_12_mon  Credit_Limit  \\\n",
      "6                  46                       1       34516.0   \n",
      "37                 36                       3       15433.0   \n",
      "303                33                       2       34516.0   \n",
      "379                36                       2       15534.0   \n",
      "523                42                       2       34516.0   \n",
      "...               ...                     ...           ...   \n",
      "10029              36                       2       23981.0   \n",
      "10038              32                       1       34516.0   \n",
      "10049              46                       5       15987.0   \n",
      "10085              38                       3       14938.0   \n",
      "10112              20                       1       34516.0   \n",
      "\n",
      "       Total_Revolving_Bal  Total_Trans_Amt  Total_Trans_Ct  \\\n",
      "6                     2264             1330              31   \n",
      "37                       0              966              22   \n",
      "303                   2061             1350              32   \n",
      "379                    726             1279              28   \n",
      "523                   2113             1362              31   \n",
      "...                    ...              ...             ...   \n",
      "10029                 1399            14840             125   \n",
      "10038                 1285            15279             122   \n",
      "10049                    0            15853             117   \n",
      "10085                    0            15277             131   \n",
      "10112                    0             9338              73   \n",
      "\n",
      "       Avg_Utilization_Ratio  \n",
      "6                      0.066  \n",
      "37                     0.000  \n",
      "303                    0.060  \n",
      "379                    0.047  \n",
      "523                    0.061  \n",
      "...                      ...  \n",
      "10029                  0.058  \n",
      "10038                  0.037  \n",
      "10049                  0.000  \n",
      "10085                  0.000  \n",
      "10112                  0.000  \n",
      "\n",
      "[116 rows x 16 columns]\n"
     ]
    }
   ],
   "source": [
    "# Nomor 4\n",
    "df4 = df.loc[df[\"Card_Category\"] == \"Gold\"]\n",
    "print(df4)"
   ]
  },
  {
   "cell_type": "code",
   "execution_count": 21,
   "id": "d6e4e766",
   "metadata": {},
   "outputs": [
    {
     "name": "stdout",
     "output_type": "stream",
     "text": [
      "-0.04644649085468725\n"
     ]
    }
   ],
   "source": [
    "# Nomor 5\n",
    "print((df[\"Customer_Age\"]*12).corr(df[\"Total_Trans_Amt\"]))"
   ]
  },
  {
   "cell_type": "code",
   "execution_count": 22,
   "id": "634580f7",
   "metadata": {},
   "outputs": [],
   "source": [
    "# Pada nomor 5, nilai korelasi antar dua kolom data adalah -0.04, menandakan kedua kolom data tersebut tidak berkorelasi"
   ]
  }
 ],
 "metadata": {
  "kernelspec": {
   "display_name": "Python 3 (ipykernel)",
   "language": "python",
   "name": "python3"
  },
  "language_info": {
   "codemirror_mode": {
    "name": "ipython",
    "version": 3
   },
   "file_extension": ".py",
   "mimetype": "text/x-python",
   "name": "python",
   "nbconvert_exporter": "python",
   "pygments_lexer": "ipython3",
   "version": "3.11.5"
  }
 },
 "nbformat": 4,
 "nbformat_minor": 5
}
